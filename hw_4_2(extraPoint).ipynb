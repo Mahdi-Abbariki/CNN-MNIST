{
  "cells": [
    {
      "attachments": {},
      "cell_type": "markdown",
      "metadata": {
        "id": "Z_LTBtfMBvW_"
      },
      "source": [
        "# CNN\n",
        "\n",
        "### Instructions\n",
        "\n",
        "- Make a copy of this notebook in your own Colab and complete the questions there.\n",
        "- You can add more cells if necessary. You may also add descriptions to your code, though it is not mandatory.\n",
        "- Make sure the notebook can run through by _Runtime -> Run all_. **Keep all cell outputs** for grading.\n"
      ]
    },
    {
      "attachments": {},
      "cell_type": "markdown",
      "metadata": {
        "id": "T33dD1e8tii2"
      },
      "source": [
        "Install PyTorch and Skorch.\n"
      ]
    },
    {
      "cell_type": "code",
      "execution_count": 5,
      "metadata": {},
      "outputs": [],
      "source": [
        "import os\n",
        "def playSound():\n",
        "    duration = 1  # seconds\n",
        "    freq = 440  # Hz\n",
        "    os.system('play -nq -t alsa synth {} sine {}'.format(duration, freq))"
      ]
    },
    {
      "cell_type": "code",
      "execution_count": 6,
      "metadata": {
        "id": "pJB3VQYDCUmh"
      },
      "outputs": [],
      "source": [
        "!pip3 install -q torch skorch torchvision torchtext sklearn numpy matplotlib\n"
      ]
    },
    {
      "cell_type": "code",
      "execution_count": 7,
      "metadata": {
        "id": "3l_Dl6qxCXmv"
      },
      "outputs": [],
      "source": [
        "import torch\n",
        "import torch.nn as nn\n",
        "import torch.nn.functional as F\n",
        "import torch.optim as optim\n",
        "import torchvision\n",
        "from torchvision import datasets\n",
        "from torchvision.transforms import ToTensor\n",
        "import skorch\n",
        "import sklearn\n",
        "import numpy as np\n",
        "import matplotlib.pyplot as plt\n"
      ]
    },
    {
      "attachments": {},
      "cell_type": "markdown",
      "metadata": {
        "id": "uevQtU7NtZ_-"
      },
      "source": [
        "## 1. Tensor Operations (20 points)\n",
        "\n",
        "Tensor operations are important in deep learning models. In this part, you are required to implement some common tensor operations in PyTorch.\n"
      ]
    },
    {
      "attachments": {},
      "cell_type": "markdown",
      "metadata": {
        "id": "5DeQOItkeQCx"
      },
      "source": [
        "### 1) Tensor squeezing, unsqueezing and viewing\n"
      ]
    },
    {
      "attachments": {},
      "cell_type": "markdown",
      "metadata": {
        "id": "pAOmBE5ODwpP"
      },
      "source": [
        "Tensor squeezing, unsqueezing and viewing are important methods to change the dimension of a Tensor, and the corresponding functions are [torch.squeeze](https://pytorch.org/docs/stable/torch.html#torch.squeeze), [torch.unsqueeze](https://pytorch.org/docs/stable/torch.html#torch.unsqueeze) and [torch.Tensor.view](https://pytorch.org/docs/stable/tensors.html#torch.Tensor.view). Please read the documents of the functions, and finish the following practice.\n"
      ]
    },
    {
      "cell_type": "code",
      "execution_count": 8,
      "metadata": {
        "colab": {
          "base_uri": "https://localhost:8080/"
        },
        "id": "hVrM80YxFSjb",
        "outputId": "fcc55c81-3ffb-4886-9551-98f640c54132"
      },
      "outputs": [
        {
          "name": "stdout",
          "output_type": "stream",
          "text": [
            "tensor([[1., 2.],\n",
            "        [3., 4.],\n",
            "        [5., 6.]])\n",
            "torch.Size([3, 2])\n",
            "\n",
            "tensor([[[[1.],\n",
            "          [2.]]],\n",
            "\n",
            "\n",
            "        [[[3.],\n",
            "          [4.]]],\n",
            "\n",
            "\n",
            "        [[[5.],\n",
            "          [6.]]]])\n",
            "torch.Size([3, 1, 2, 1])\n",
            "\n",
            "tensor([[1., 2.],\n",
            "        [3., 4.],\n",
            "        [5., 6.]])\n",
            "torch.Size([3, 2])\n",
            "\n",
            "tensor([1., 2., 3., 4., 5., 6.])\n",
            "torch.Size([6])\n"
          ]
        }
      ],
      "source": [
        "# x is a tensor with size being (3, 2)\n",
        "x = torch.Tensor([[1, 2], [3, 4], [5, 6]])\n",
        "print(x)\n",
        "print(x.shape)\n",
        "print()\n",
        "# Add two new dimensions to x by using the function torch.unsqueeze, so that the size of x becomes (3, 1, 2, 1).\n",
        "x = torch.Tensor.unsqueeze(x, 1)\n",
        "x = torch.Tensor.unsqueeze(x, 3)\n",
        "print(x)\n",
        "print(x.shape)\n",
        "print()\n",
        "# Remove the two dimensions justed added by using the function torch.squeeze, and change the size of x back to (3, 2).\n",
        "x = torch.Tensor.squeeze(x, 3)\n",
        "x = torch.Tensor.squeeze(x, 1)\n",
        "print(x)\n",
        "print(x.shape)\n",
        "print()\n",
        "# x is now a two-dimensional tensor, or in other words a matrix. Now use the function torch.Tensor.view and change x to a one-dimensional vector with size being (6).\n",
        "x = torch.Tensor.view(x, 6)\n",
        "\n",
        "print(x)\n",
        "print(x.shape)\n"
      ]
    },
    {
      "attachments": {},
      "cell_type": "markdown",
      "metadata": {
        "id": "liuR-U0wea0n"
      },
      "source": [
        "### 2) Tensor concatenation and stack\n"
      ]
    },
    {
      "attachments": {},
      "cell_type": "markdown",
      "metadata": {
        "id": "pkbnt6v8Bo-j"
      },
      "source": [
        "Tensor concatenation and stack are operations to combine small tensors into big tensors. The corresponding functions are [torch.cat](https://pytorch.org/docs/stable/torch.html#torch.cat) and [torch.stack](https://pytorch.org/docs/stable/torch.html#torch.stack). Please read the documents of the functions, and finish the following practice.\n"
      ]
    },
    {
      "cell_type": "code",
      "execution_count": 9,
      "metadata": {
        "colab": {
          "base_uri": "https://localhost:8080/"
        },
        "id": "b9KqXu3Stfjh",
        "outputId": "56931db9-eb0c-4d79-9bce-2bd093311e1a"
      },
      "outputs": [
        {
          "name": "stdout",
          "output_type": "stream",
          "text": [
            "tensor([[[ 1.,  2.],\n",
            "         [ 3.,  4.],\n",
            "         [ 5.,  6.]],\n",
            "\n",
            "        [[-1., -2.],\n",
            "         [-3., -4.],\n",
            "         [-5., -6.]]])\n",
            "torch.Size([2, 3, 2])\n",
            "tensor([[[ 1.,  2.],\n",
            "         [ 3.,  4.],\n",
            "         [ 5.,  6.]],\n",
            "\n",
            "        [[-1., -2.],\n",
            "         [-3., -4.],\n",
            "         [-5., -6.]]])\n",
            "torch.Size([2, 3, 2])\n"
          ]
        }
      ],
      "source": [
        "# x is a tensor with size being (3, 2)\n",
        "x = torch.Tensor([[1, 2], [3, 4], [5, 6]])\n",
        "\n",
        "# y is a tensor with size being (3, 2)\n",
        "y = torch.Tensor([[-1, -2], [-3, -4], [-5, -6]])\n",
        "\n",
        "# Our goal is to generate a tensor z with size as (2, 3, 2), and z[0,:,:] = x, z[1,:,:] = y.\n",
        "\n",
        "# Use torch.stack to generate such a z\n",
        "\n",
        "z = torch.stack([x, y])\n",
        "\n",
        "print(z)\n",
        "print(z.shape)\n",
        "\n",
        "# Use torch.cat and torch.unsqueeze to generate such a z\n",
        "z = torch.cat([torch.Tensor.unsqueeze(x, 0), torch.Tensor.unsqueeze(y, 0)], 0)\n",
        "\n",
        "print(z)\n",
        "print(z.shape)\n"
      ]
    },
    {
      "attachments": {},
      "cell_type": "markdown",
      "metadata": {
        "id": "WGw4eEo-eeHm"
      },
      "source": [
        "### 3) Tensor expansion\n"
      ]
    },
    {
      "attachments": {},
      "cell_type": "markdown",
      "metadata": {
        "id": "KAII9eJgJFK2"
      },
      "source": [
        "Tensor expansion is to expand a tensor into a larger tensor along singleton dimensions. The corresponding functions are [torch.Tensor.expand](https://pytorch.org/docs/stable/tensors.html#torch.Tensor.expand) and [torch.Tensor.expand_as](https://pytorch.org/docs/stable/tensors.html#torch.Tensor.expand_as). Please read the documents of the functions, and finish the following practice.\n"
      ]
    },
    {
      "cell_type": "code",
      "execution_count": 10,
      "metadata": {
        "colab": {
          "base_uri": "https://localhost:8080/"
        },
        "id": "sQbFte-AJzVL",
        "outputId": "25b9c6f9-d507-47f2-f064-f33a12ad4538"
      },
      "outputs": [
        {
          "name": "stdout",
          "output_type": "stream",
          "text": [
            "tensor([[1., 2., 3.],\n",
            "        [1., 2., 3.]])\n",
            "torch.Size([2, 3])\n"
          ]
        }
      ],
      "source": [
        "# x is a tensor with size being (3)\n",
        "x = torch.Tensor([1, 2, 3])\n",
        "\n",
        "# Our goal is to generate a tensor z with size (2, 3), so that z[0,:,:] = x, z[1,:,:] = x.\n",
        "\n",
        "# [TO DO]\n",
        "# Change the size of x into (1, 3) by using torch.unsqueeze.\n",
        "x = torch.Tensor.unsqueeze(x, 0)\n",
        "\n",
        "# [TO DO]\n",
        "# Then expand the new tensor to the target tensor by using torch.Tensor.expand.\n",
        "x = x.expand(2, 3)\n",
        "print(x)\n",
        "print(x.shape)\n"
      ]
    },
    {
      "attachments": {},
      "cell_type": "markdown",
      "metadata": {
        "id": "0rFL_Shoef3m"
      },
      "source": [
        "### 4) Tensor reduction in a given dimension\n"
      ]
    },
    {
      "attachments": {},
      "cell_type": "markdown",
      "metadata": {
        "id": "fmEoJVw0LL9H"
      },
      "source": [
        "In deep learning, we often need to compute the mean/sum/max/min value in a given dimension of a tensor. Please read the document of [torch.mean](https://pytorch.org/docs/stable/torch.html#torch.mean), [torch.sum](https://pytorch.org/docs/stable/torch.html#torch.sum), [torch.max](https://pytorch.org/docs/stable/torch.html#torch.max), [torch.min](https://pytorch.org/docs/stable/torch.html#torch.min), [torch.topk](https://pytorch.org/docs/stable/torch.html#torch.topk), and finish the following practice.\n"
      ]
    },
    {
      "cell_type": "code",
      "execution_count": 11,
      "metadata": {
        "colab": {
          "base_uri": "https://localhost:8080/"
        },
        "id": "A7dlZwe4MNxo",
        "outputId": "29cac2b7-bc96-43f4-c7c0-9d2b2b337092"
      },
      "outputs": [
        {
          "name": "stdout",
          "output_type": "stream",
          "text": [
            "x_mean tensor([-0.0036, -0.0880,  0.1812,  0.0058, -0.0257,  0.0258, -0.0190,  0.1028,\n",
            "         0.0253, -0.0807])\n",
            "\n",
            "x_sum tensor([-0.1808, -4.4005,  9.0600,  0.2877, -1.2868,  1.2910, -0.9507,  5.1418,\n",
            "         1.2636, -4.0349])\n",
            "\n",
            "x_max torch.return_types.max(\n",
            "values=tensor([2.5207, 2.6674, 2.4203, 1.8042, 1.8416, 1.6122, 2.3258, 3.5771, 1.5038,\n",
            "        2.2145]),\n",
            "indices=tensor([19, 20,  7, 41, 22, 34, 11, 43, 18, 48]))\n",
            "\n",
            "x_min torch.return_types.min(\n",
            "values=tensor([-1.8507, -2.2624, -1.6671, -2.2414, -2.6799, -1.8943, -2.0056, -1.8825,\n",
            "        -1.1655, -2.7817]),\n",
            "indices=tensor([30, 25, 49,  1,  2, 46, 30, 45, 22, 49]))\n",
            "\n",
            "x_top torch.return_types.topk(\n",
            "values=tensor([[2.5207, 1.5648, 1.3340, 1.1838, 1.1267],\n",
            "        [2.6674, 1.8359, 1.6093, 1.2385, 1.0927],\n",
            "        [2.4203, 2.1401, 1.4795, 1.2900, 1.1547],\n",
            "        [1.8042, 1.7501, 1.7177, 1.5697, 1.4382],\n",
            "        [1.8416, 1.5669, 1.2468, 1.0948, 1.0904],\n",
            "        [1.6122, 1.4926, 1.2493, 1.1157, 0.9840],\n",
            "        [2.3258, 1.9184, 1.8805, 1.4793, 1.2884],\n",
            "        [3.5771, 2.9589, 2.2017, 1.6504, 1.6409],\n",
            "        [1.5038, 1.4699, 1.2576, 1.0806, 1.0059],\n",
            "        [2.2145, 2.1670, 1.8568, 1.5053, 1.3711]]),\n",
            "indices=tensor([[19,  9, 42, 24, 21],\n",
            "        [20, 13, 49, 12,  1],\n",
            "        [ 7, 15, 39, 48, 35],\n",
            "        [41, 31, 33, 21, 23],\n",
            "        [22, 32, 26, 39, 24],\n",
            "        [34, 29, 14,  8, 31],\n",
            "        [11, 21, 15, 49, 33],\n",
            "        [43, 22, 26, 28, 41],\n",
            "        [18, 20, 17,  1, 43],\n",
            "        [48, 30,  9, 43, 10]]))\n",
            "\n"
          ]
        }
      ],
      "source": [
        "# x is a random tensor with size being (10, 50)\n",
        "x = torch.randn(10, 50)\n",
        "\n",
        "# Compute the mean value for each row of x.\n",
        "# You need to generate a tensor x_mean of size (10), and x_mean[k, :] is the mean value of the k-th row of x.\n",
        "# x_mean = torch.empty(10)\n",
        "x_mean = x.mean(1)\n",
        "print(\"x_mean\", x_mean)\n",
        "print()\n",
        "# Compute the sum value for each row of x.\n",
        "# You need to generate a tensor x_sum of size (10).\n",
        "x_sum = x.sum(1)\n",
        "print(\"x_sum\", x_sum)\n",
        "print()\n",
        "# Compute the max value for each row of x.\n",
        "# You need to generate a tensor x_max of size (10).\n",
        "x_max = x.max(1)\n",
        "print(\"x_max\", x_max)\n",
        "print()\n",
        "# Compute the min value for each row of x.\n",
        "# You need to generate a tensor x_min of size (10).\n",
        "x_min = x.min(1)\n",
        "print(\"x_min\", x_min)\n",
        "print()\n",
        "# Compute the top-5 values for each row of x.\n",
        "# You need to generate a tensor x_mean of size (10, 5), and x_top[k, :] is the top-5 values of each row in x.\n",
        "x_top = x.topk(5, 1)\n",
        "print(\"x_top\", x_top)\n",
        "print()\n"
      ]
    },
    {
      "attachments": {},
      "cell_type": "markdown",
      "metadata": {
        "id": "I49qjiqHB9oa"
      },
      "source": [
        "## Convolutional Neural Networks (40 points)\n"
      ]
    },
    {
      "attachments": {},
      "cell_type": "markdown",
      "metadata": {
        "id": "JePbG5pSt1xv"
      },
      "source": [
        "Implement a convolutional neural network for image classification on CIFAR-10 dataset.\n",
        "\n",
        "CIFAR-10 is an image dataset of 10 categories. Each image has a size of 32x32 pixels. The following code will download the dataset, and split it into `train` and `test`. For this question, we use the default validation split generated by Skorch.\n"
      ]
    },
    {
      "cell_type": "code",
      "execution_count": 12,
      "metadata": {
        "id": "sQxOUQ29BuMB"
      },
      "outputs": [],
      "source": [
        "train_data = datasets.MNIST(\n",
        "    root='data',\n",
        "    train=True,\n",
        "    transform=ToTensor(),\n",
        "    download=True,\n",
        ")\n",
        "test_data = datasets.MNIST(\n",
        "    root='data',\n",
        "    train=False,\n",
        "    transform=ToTensor()\n",
        ")\n"
      ]
    },
    {
      "cell_type": "code",
      "execution_count": 13,
      "metadata": {
        "colab": {
          "base_uri": "https://localhost:8080/",
          "height": 482
        },
        "id": "DTZvQc25gTMB",
        "outputId": "346e5cfe-a02b-466f-883c-488c741afe69"
      },
      "outputs": [
        {
          "data": {
            "image/png": "[encoded data removed]",
            "text/plain": [
              "<Figure size 1000x800 with 25 Axes>"
            ]
          },
          "metadata": {},
          "output_type": "display_data"
        }
      ],
      "source": [
        "figure = plt.figure(figsize=(10, 8))\n",
        "cols, rows = 5, 5\n",
        "for i in range(1, cols * rows + 1):\n",
        "    sample_idx = torch.randint(len(train_data), size=(1,)).item()\n",
        "    img, label = train_data[sample_idx]\n",
        "    figure.add_subplot(rows, cols, i)\n",
        "    plt.title(label)\n",
        "    plt.axis(\"off\")\n",
        "    plt.imshow(img.squeeze(), cmap=\"gray\")\n",
        "plt.show()\n"
      ]
    },
    {
      "attachments": {},
      "cell_type": "markdown",
      "metadata": {
        "id": "ieBpiwMwi6wD"
      },
      "source": [
        "The following code visualizes some samples in the dataset. You may use it to debug your model if necessary.\n"
      ]
    },
    {
      "cell_type": "code",
      "execution_count": 14,
      "metadata": {
        "colab": {
          "base_uri": "https://localhost:8080/",
          "height": 108
        },
        "id": "cU5HrxybupyJ",
        "outputId": "345e0af5-7881-4237-dd21-b3e0b79f3ee8"
      },
      "outputs": [
        {
          "data": {
            "image/png": "[encoded data removed]",
            "text/plain": [
              "<Figure size 640x480 with 5 Axes>"
            ]
          },
          "metadata": {},
          "output_type": "display_data"
        }
      ],
      "source": [
        "def plot(data, labels=None, num_sample=5):\n",
        "    n = min(len(data), num_sample)\n",
        "    for i in range(n):\n",
        "        plt.subplot(1, n, i+1)\n",
        "        plt.imshow(data[i], cmap=\"gray\")\n",
        "        plt.xticks([])\n",
        "        plt.yticks([])\n",
        "        if labels is not None:\n",
        "            plt.title(labels[i])\n",
        "\n",
        "\n",
        "# train.labels = [train.classes[target] for target in train.targets]\n",
        "plot(train_data.data, train_data.targets)\n"
      ]
    },
    {
      "cell_type": "code",
      "execution_count": 15,
      "metadata": {
        "colab": {
          "base_uri": "https://localhost:8080/"
        },
        "id": "qkeTGsxrjTTZ",
        "outputId": "d4cd813e-fe20-4972-ef5e-a7c4ec8f53d7"
      },
      "outputs": [
        {
          "data": {
            "text/plain": [
              "torch.Size([60000, 28, 28])"
            ]
          },
          "execution_count": 15,
          "metadata": {},
          "output_type": "execute_result"
        }
      ],
      "source": [
        "train_data.data.shape\n"
      ]
    },
    {
      "cell_type": "markdown",
      "metadata": {
        "id": "JwzKmdcuCv1D"
      },
      "source": [
        "### 1) Basic CNN implementation\n"
      ]
    },
    {
      "attachments": {},
      "cell_type": "markdown",
      "metadata": {
        "id": "TbEYo5WgjTtm"
      },
      "source": [
        "Consider a basic CNN model\n",
        "\n",
        "- It has 3 convolutional layers, followed by a linear layer.\n",
        "- Each convolutional layer has a kernel size of 3, a padding of 1.\n",
        "- ReLU activation is applied on every hidden layer.\n",
        "\n",
        "Please implement this model in the following section. You will need to tune the hyperparameters and fill the results in the table.\n"
      ]
    },
    {
      "attachments": {},
      "cell_type": "markdown",
      "metadata": {
        "id": "OZKyE2GUfL-Z"
      },
      "source": [
        "#### a) Implement convolutional layers\n"
      ]
    },
    {
      "attachments": {},
      "cell_type": "markdown",
      "metadata": {
        "id": "4P_aYytExtq9"
      },
      "source": [
        "Implement the initialization function and the forward function of the CNN.\n"
      ]
    },
    {
      "cell_type": "code",
      "execution_count": 16,
      "metadata": {
        "colab": {
          "base_uri": "https://localhost:8080/"
        },
        "id": "sDmCKUD1LBFk",
        "outputId": "3872dacb-5728-4ba5-8249-458438f49d4b"
      },
      "outputs": [
        {
          "name": "stdout",
          "output_type": "stream",
          "text": [
            "CNN(\n",
            "  (network): Sequential(\n",
            "    (0): Conv2d(1, 512, kernel_size=(3, 3), stride=(1, 1), padding=(1, 1))\n",
            "    (1): ReLU()\n",
            "    (2): Conv2d(512, 512, kernel_size=(3, 3), stride=(1, 1), padding=(1, 1))\n",
            "    (3): ReLU()\n",
            "    (4): Conv2d(512, 512, kernel_size=(3, 3), stride=(1, 1), padding=(1, 1))\n",
            "    (5): ReLU()\n",
            "  )\n",
            "  (fc1): Linear(in_features=401408, out_features=10, bias=True)\n",
            ")\n"
          ]
        }
      ],
      "source": [
        "class CNN(nn.Module):\n",
        "    def __init__(self):\n",
        "        super(CNN, self).__init__()\n",
        "        self.network = nn.Sequential(\n",
        "            nn.Conv2d(\n",
        "                in_channels=1,\n",
        "                out_channels=512,\n",
        "                kernel_size=3,\n",
        "                stride=1,\n",
        "                padding=1,\n",
        "            ),\n",
        "            nn.ReLU(),\n",
        "\n",
        "            nn.Conv2d(512, 512, 3, 1, 1),\n",
        "            nn.ReLU(),\n",
        "\n",
        "            nn.Conv2d(512, 512, 3, 1, 1),\n",
        "            nn.ReLU()\n",
        "        )\n",
        "\n",
        "        self.fc1 = nn.Linear(512 * 28 * 28, 10)\n",
        "\n",
        "    def forward(self, images):\n",
        "        out = self.network(images)\n",
        "        out = out.view(out.size(0), -1)   # Flatten them for FC\n",
        "        out = self.fc1(out)\n",
        "        return out\n",
        "\n",
        "\n",
        "cnn = CNN()\n",
        "print(cnn)\n"
      ]
    },
    {
      "attachments": {},
      "cell_type": "markdown",
      "metadata": {
        "id": "E_YaASPpgRiL"
      },
      "source": [
        "#### b) Tune hyperparameters\n"
      ]
    },
    {
      "attachments": {},
      "cell_type": "markdown",
      "metadata": {
        "id": "ygMcDdpy6XWP"
      },
      "source": [
        "Train the CNN model on CIFAR-10 dataset. Tune the number of channels, optimizer, learning rate and the number of epochs for best validation accuracy.\n"
      ]
    },
    {
      "cell_type": "code",
      "execution_count": 17,
      "metadata": {
        "id": "WsA7kXhQn6hu"
      },
      "outputs": [],
      "source": [
        "# implement input normalization & type cast here\n",
        "train_data.data = train_data.data / 255\n",
        "train_data.data = torch.Tensor.unsqueeze(train_data.data, 1)\n"
      ]
    },
    {
      "cell_type": "code",
      "execution_count": 79,
      "metadata": {
        "id": "0PHxOHYnr8TU"
      },
      "outputs": [
        {
          "name": "stdout",
          "output_type": "stream",
          "text": [
            "  epoch    train_loss    valid_acc    valid_loss       dur\n",
            "-------  ------------  -----------  ------------  --------\n",
            "      1       \u001b[36m96.1800\u001b[0m       \u001b[32m0.1123\u001b[0m        \u001b[35m2.3016\u001b[0m  217.7355\n",
            "      2        \u001b[36m2.3015\u001b[0m       0.1044        \u001b[35m2.3016\u001b[0m  219.9085\n",
            "      3        2.3016       0.1044        2.3017  220.0999\n",
            "      4        2.3016       0.1044        2.3017  219.8321\n",
            "      5        2.3016       0.1044        2.3017  219.2973\n",
            "      6        2.3017       0.1044        2.3017  219.3143\n",
            "      7        2.3017       0.1044        2.3017  220.0026\n",
            "      8        2.3017       0.1044        2.3018  219.3979\n",
            "      9        2.3017       0.1044        2.3018  219.5203\n",
            "     10        2.3017       0.1044        2.3018  219.8218\n"
          ]
        },
        {
          "data": {
            "text/plain": [
              "<class 'skorch.classifier.NeuralNetClassifier'>[initialized](\n",
              "  module_=CNN(\n",
              "    (network): Sequential(\n",
              "      (0): Conv2d(1, 512, kernel_size=(3, 3), stride=(1, 1), padding=(1, 1))\n",
              "      (1): ReLU()\n",
              "      (2): Conv2d(512, 512, kernel_size=(3, 3), stride=(1, 1), padding=(1, 1))\n",
              "      (3): ReLU()\n",
              "      (4): Conv2d(512, 512, kernel_size=(3, 3), stride=(1, 1), padding=(1, 1))\n",
              "      (5): ReLU()\n",
              "    )\n",
              "    (fc1): Linear(in_features=401408, out_features=10, bias=True)\n",
              "  ),\n",
              ")"
            ]
          },
          "execution_count": 79,
          "metadata": {},
          "output_type": "execute_result"
        }
      ],
      "source": [
        "# implement hyperparameters here\n",
        "model = skorch.NeuralNetClassifier(CNN,\n",
        "                                   optimizer=optim.Adam,\n",
        "                                   criterion=torch.nn.CrossEntropyLoss,\n",
        "                                   device=\"cuda\")\n",
        "model.fit(train_data.data, train_data.targets)"
      ]
    },
    {
      "attachments": {},
      "cell_type": "markdown",
      "metadata": {
        "id": "w-EHKzozkRbD"
      },
      "source": [
        "Write down **validation accuracy** of your model under different hyperparameter settings. Note the validation set is automatically split by Skorch during `model.fit()`.\n",
        "\n",
        "**Hint:** You may need more epochs for SGD than Adam.\n",
        "\n",
        "| #channel for each layer \\ optimizer | SGD   | Adam  |\n",
        "|-------------------------------------|-------|-------|\n",
        "| (128, 128, 128)                     |   0.9767    |   0.1044    |\n",
        "| (256, 256, 256)                     |   0.9783    |    0.1044   |\n",
        "| (512, 512, 512)                     |    0.9791   |    0.1044   |\n"
      ]
    },
    {
      "attachments": {},
      "cell_type": "markdown",
      "metadata": {
        "id": "go55LVSJd-vG"
      },
      "source": [
        "### 2) Full CNN implementation\n"
      ]
    },
    {
      "attachments": {},
      "cell_type": "markdown",
      "metadata": {
        "id": "6G0eCj6OmOEE"
      },
      "source": [
        "Based on the CNN in the previous question, implement a full CNN model with max pooling layer.\n",
        "\n",
        "- Add a max pooling layer after each convolutional layer.\n",
        "- Each max pooling layer has a kernel size of 2 and a stride of 2.\n",
        "\n",
        "Please implement this model in the following section. You will need to tune the hyperparameters and fill the results in the table. You are also required to complete the questions.\n"
      ]
    },
    {
      "attachments": {},
      "cell_type": "markdown",
      "metadata": {
        "id": "bMrKGlMQhCa0"
      },
      "source": [
        "#### a) Implement max pooling layers\n"
      ]
    },
    {
      "attachments": {},
      "cell_type": "markdown",
      "metadata": {
        "id": "g2INt6P3Myd1"
      },
      "source": [
        "Copy the CNN implementation in previous question. Implement max pooling layers.\n"
      ]
    },
    {
      "cell_type": "code",
      "execution_count": 18,
      "metadata": {
        "id": "DHu3Ic2dM1S9"
      },
      "outputs": [
        {
          "data": {
            "text/plain": [
              "CNN_MaxPool(\n",
              "  (network): Sequential(\n",
              "    (0): Conv2d(1, 512, kernel_size=(3, 3), stride=(1, 1), padding=(1, 1))\n",
              "    (1): ReLU()\n",
              "    (2): MaxPool2d(kernel_size=2, stride=2, padding=0, dilation=1, ceil_mode=False)\n",
              "    (3): Conv2d(512, 1024, kernel_size=(3, 3), stride=(1, 1), padding=(1, 1))\n",
              "    (4): ReLU()\n",
              "    (5): MaxPool2d(kernel_size=2, stride=2, padding=0, dilation=1, ceil_mode=False)\n",
              "    (6): Conv2d(1024, 2048, kernel_size=(3, 3), stride=(1, 1), padding=(1, 1))\n",
              "    (7): ReLU()\n",
              "    (8): MaxPool2d(kernel_size=2, stride=2, padding=0, dilation=1, ceil_mode=False)\n",
              "  )\n",
              "  (fc1): Linear(in_features=18432, out_features=10, bias=True)\n",
              ")"
            ]
          },
          "execution_count": 18,
          "metadata": {},
          "output_type": "execute_result"
        }
      ],
      "source": [
        "class CNN_MaxPool(nn.Module):\n",
        "    def __init__(self):\n",
        "        super(CNN_MaxPool, self).__init__()\n",
        "        self.network = nn.Sequential(\n",
        "            nn.Conv2d(\n",
        "                in_channels=1,\n",
        "                out_channels=512,\n",
        "                kernel_size=3,\n",
        "                stride=1,\n",
        "                padding=1,\n",
        "            ),\n",
        "            nn.ReLU(),\n",
        "            nn.MaxPool2d(2, 2),\n",
        "\n",
        "            nn.Conv2d(512, 1024, 3, 1, 1),\n",
        "            nn.ReLU(),\n",
        "            nn.MaxPool2d(2, 2),\n",
        "\n",
        "            nn.Conv2d(1024, 2048, 3, 1, 1),\n",
        "            nn.ReLU(),\n",
        "            nn.MaxPool2d(2, 2),\n",
        "        )\n",
        "\n",
        "        self.fc1 = nn.Linear(2048 * 3 * 3, 10)\n",
        "\n",
        "    def forward(self, images):\n",
        "        out = self.network(images)\n",
        "        out = out.view(out.size(0), -1)   # Flatten them for FC\n",
        "        out = self.fc1(out)\n",
        "        return out\n",
        "\n",
        "\n",
        "CNN_MaxPool()\n"
      ]
    },
    {
      "attachments": {},
      "cell_type": "markdown",
      "metadata": {
        "id": "-A6AEOoigq68"
      },
      "source": [
        "#### b) Tune hyperparameters\n"
      ]
    },
    {
      "attachments": {},
      "cell_type": "markdown",
      "metadata": {
        "id": "drH4MHSVNqwz"
      },
      "source": [
        "Based on best optimizer you found in the previous problem, tune the number of channels and learning rate for best validation accuracy.\n"
      ]
    },
    {
      "cell_type": "code",
      "execution_count": 88,
      "metadata": {
        "id": "tT9Evw4hryj1"
      },
      "outputs": [
        {
          "name": "stdout",
          "output_type": "stream",
          "text": [
            "  epoch    train_loss    valid_acc    valid_loss       dur\n",
            "-------  ------------  -----------  ------------  --------\n",
            "      1    \u001b[36m34039.4129\u001b[0m       \u001b[32m0.1243\u001b[0m        \u001b[35m2.2906\u001b[0m  152.6722\n",
            "      2        \u001b[36m4.6153\u001b[0m       \u001b[32m0.2627\u001b[0m        \u001b[35m2.0170\u001b[0m  156.7308\n",
            "      3        \u001b[36m1.5735\u001b[0m       \u001b[32m0.6867\u001b[0m        \u001b[35m0.9447\u001b[0m  154.8558\n",
            "      4       41.8043       0.3126        2.0092  155.5305\n",
            "      5        2.5870       0.1044        2.3015  155.6134\n",
            "      6        2.3018       0.1044        2.3015  155.3374\n",
            "      7        2.3018       0.1044        2.3015  152.2302\n",
            "      8        2.3018       0.1044        2.3015  151.2356\n",
            "      9        2.3018       0.1044        2.3015  156.7700\n",
            "     10        2.3018       0.1044        2.3015  158.1971\n"
          ]
        },
        {
          "data": {
            "text/plain": [
              "<class 'skorch.classifier.NeuralNetClassifier'>[initialized](\n",
              "  module_=CNN_MaxPool(\n",
              "    (network): Sequential(\n",
              "      (0): Conv2d(1, 512, kernel_size=(3, 3), stride=(1, 1), padding=(1, 1))\n",
              "      (1): ReLU()\n",
              "      (2): MaxPool2d(kernel_size=2, stride=2, padding=0, dilation=1, ceil_mode=False)\n",
              "      (3): Conv2d(512, 1024, kernel_size=(3, 3), stride=(1, 1), padding=(1, 1))\n",
              "      (4): ReLU()\n",
              "      (5): MaxPool2d(kernel_size=2, stride=2, padding=0, dilation=1, ceil_mode=False)\n",
              "      (6): Conv2d(1024, 2048, kernel_size=(3, 3), stride=(1, 1), padding=(1, 1))\n",
              "      (7): ReLU()\n",
              "      (8): MaxPool2d(kernel_size=2, stride=2, padding=0, dilation=1, ceil_mode=False)\n",
              "    )\n",
              "    (fc1): Linear(in_features=18432, out_features=10, bias=True)\n",
              "  ),\n",
              ")"
            ]
          },
          "execution_count": 88,
          "metadata": {},
          "output_type": "execute_result"
        }
      ],
      "source": [
        "model = skorch.NeuralNetClassifier(CNN_MaxPool,\n",
        "                                   optimizer=optim.RMSprop,\n",
        "                                   criterion=torch.nn.CrossEntropyLoss,\n",
        "                                   lr=0.01,\n",
        "                                   device=\"cuda\")\n",
        "model.fit(train_data.data, train_data.targets)\n"
      ]
    },
    {
      "cell_type": "code",
      "execution_count": 89,
      "metadata": {},
      "outputs": [],
      "source": [
        "playSound()"
      ]
    },
    {
      "attachments": {},
      "cell_type": "markdown",
      "metadata": {
        "id": "H7Mu2ZZHoZU0"
      },
      "source": [
        "Write down the **validation accuracy** of your model under different hyperparameter settings.\n",
        "\n",
        "\n",
        "I will use SGD as it shows better performance in former execution\n",
        "\n",
        "\n",
        "| #channel for each layer | validation accuracy |\n",
        "| ----------------------- | ------------------- |\n",
        "| (128, 128, 128)         |        0.9703             |\n",
        "| (128, 256, 512)         |          0.9723           |\n",
        "| (256, 256, 256)         |           0.9728           |\n",
        "| (256, 512, 1024)        |       0.9739              |\n",
        "| (512, 512, 512)         |        0.9752             |\n",
        "| (512, 1024, 2048)       |          0.9761          |\n"
      ]
    },
    {
      "attachments": {},
      "cell_type": "markdown",
      "metadata": {
        "id": "8UCaz8nWoWWS"
      },
      "source": [
        "For the best model you have, test it on the test set.\n",
        "\n",
        "It is fine if you found some hyperparameter combination better than those listed in the tables.\n"
      ]
    },
    {
      "cell_type": "code",
      "execution_count": null,
      "metadata": {},
      "outputs": [],
      "source": [
        "# normalization\n",
        "test_data.data = test_data.data / 255\n",
        "test_data.data = torch.Tensor.unsqueeze(test_data.data, 1)\n"
      ]
    },
    {
      "cell_type": "code",
      "execution_count": null,
      "metadata": {
        "id": "bTtBk22OECDD"
      },
      "outputs": [],
      "source": [
        "# implement the same input normalization & type cast here\n",
        "test_data.predictions = model.predict(test_data.data)\n",
        "sklearn.metrics.accuracy_score(test_data.targets, test_data.predictions)\n"
      ]
    },
    {
      "attachments": {},
      "cell_type": "markdown",
      "metadata": {
        "id": "kSbhC8f1or6_"
      },
      "source": [
        "How much **test accuracy** do you get?\n",
        "\n",
        "**Your Answer : 0.9809** \n"
      ]
    },
    {
      "attachments": {},
      "cell_type": "markdown",
      "metadata": {
        "id": "nG3E9ZckomkX"
      },
      "source": [
        "What can you conclude for the design of CNN structure?\n",
        "\n",
        "**Your Answer:** CNN can show great accuracy with smaller size of inputs and also it is better for image processing as it can tolerate changing subject position in the picture.\n",
        "\n",
        "i think the most important thing to remember when creating a cnn is to pay attention to the data size in input and iutput and it think it is the most challenging part of designing a cnn.\n",
        "\n",
        "also each convoultion layer in and out size plays an importatn role in predection accuracy.\n"
      ]
    },
    {
      "attachments": {},
      "cell_type": "markdown",
      "metadata": {
        "id": "kNlnDbZtqHgi"
      },
      "source": [
        "- **Subtask 2-1: Completing the Table**\n",
        "\n",
        "We have provided the following table for different combinations of optimizers and learning rate, please write down the **validation accuracy** of your model with different optimizers and learning rates.\n",
        "\n",
        "|         | 0.1 | 0.01 | 0.001 | 0.0001 |\n",
        "| ------- | --- | ---- | ----- | ------ |\n",
        "| SGD     |   0.9893  | 0.9768     | 0.9166      |  0.7208      |\n",
        "| Adam    |  0.1022   |   0.9437   |  0.9866     |    0.9897    |\n",
        "| RMSprop |  0.0985   |  0.1044    |    0.9848   |    0.9748    |\n"
      ]
    },
    {
      "attachments": {},
      "cell_type": "markdown",
      "metadata": {
        "id": "nVVd5b9rzSFA"
      },
      "source": [
        "- **Subtask 2-2: Explaining your Observations**\n",
        "\n",
        "Based on your results, briefly explain your observations, e.g., which optimizer works the best, what is the optimal learning rate for each optimizer?\n",
        "\n",
        "_Your Answer:_\n",
        "\n",
        "**As we can conclude from the results, SGD optimizer works better when the learning rate is greater. the best learning rate for SGD is 0.1.**\n",
        "\n",
        "**unlike SGD, Adam works better with smaller learning rates as the learning rates gets smaller the results of Adam gets better. the best learning rate for Adam 1e-4.**\n",
        "\n",
        "**comparing the results shows that the RMSprop does not show good results. other Optimizers show better results than this optimizer. However the best learning rate for RMSprop is 1e-4.**\n"
      ]
    },
    {
      "attachments": {},
      "cell_type": "markdown",
      "metadata": {
        "id": "dyy7qpHtzYJn"
      },
      "source": [
        "### 3) Compare the Results under Different Epoches\n"
      ]
    },
    {
      "attachments": {},
      "cell_type": "markdown",
      "metadata": {
        "id": "mhXQERRizZO6"
      },
      "source": [
        "In this task, we hope to compare the results of our model under different training epoches, and answer a question.\n"
      ]
    },
    {
      "attachments": {},
      "cell_type": "markdown",
      "metadata": {
        "id": "9JBBjTGd1zis"
      },
      "source": [
        "- **Subtask 3-1: Completing the Table**\n",
        "\n",
        "We have provided the following table, please write down the **training Loss** and **validation accuracy** of your model under different epoches.\n",
        "\n",
        "|                     | 10  | 20  | 30  | 40  | 50  |\n",
        "| ------------------- | --- | --- | --- | --- | --- |\n",
        "| Training Loss   |  0.0101   |  0.0017   |   0.0005  |  0.0003   |  0.0002   |\n",
        "| Validation Accuracy |  0.9891   |  0.9852   |  0.9907   |  0.9908   |  0.9915   |\n"
      ]
    },
    {
      "attachments": {},
      "cell_type": "markdown",
      "metadata": {
        "id": "l82_FjXazdod"
      },
      "source": [
        "- **Subtask 3-2: Answering the Question**\n",
        "\n",
        "Is it always better to train a model for more epoches? How can we decide when should we stop training?\n",
        "\n",
        "_Your Answer:_\n",
        "\n",
        "for answering this subtask we use SGD with learning rate equal to 0.1.\n",
        "\n",
        "we can not conclude that always training the model with more epoches is good and the results would be better, cause after some points, overfitting so after that the model will depend on training data a lot. so when it happens data can now predict data in test data as it overfitts on training data.\n",
        "\n",
        "in this case the model accuracy increased with number of epoches but the difference is not that much, as we can see the difference between 30 and 40 epoches is equal to 1e-4.\n",
        "\n"
      ]
    }
  ],
  "metadata": {
    "accelerator": "GPU",
    "colab": {
      "provenance": []
    },
    "gpuClass": "standard",
    "kernelspec": {
      "display_name": "Python 3",
      "language": "python",
      "name": "python3"
    },
    "language_info": {
      "codemirror_mode": {
        "name": "ipython",
        "version": 3
      },
      "file_extension": ".py",
      "mimetype": "text/x-python",
      "name": "python",
      "nbconvert_exporter": "python",
      "pygments_lexer": "ipython3",
      "version": "3.10.6 (main, Nov 14 2022, 16:10:14) [GCC 11.3.0]"
    },
    "vscode": {
      "interpreter": {
        "hash": "916dbcbb3f70747c44a77c7bcd40155683ae19c65e1c03b4aa3499c5328201f1"
      }
    }
  },
  "nbformat": 4,
  "nbformat_minor": 0
}
