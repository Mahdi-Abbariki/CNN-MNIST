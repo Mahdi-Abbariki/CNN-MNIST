{
  "cells": [
    {
      "attachments": {},
      "cell_type": "markdown",
      "metadata": {
        "id": "Z_LTBtfMBvW_"
      },
      "source": [
        "# CNN\n",
        "\n",
        "### Instructions\n",
        "\n",
        "- Make a copy of this notebook in your own Colab and complete the questions there.\n",
        "- You can add more cells if necessary. You may also add descriptions to your code, though it is not mandatory.\n",
        "- Make sure the notebook can run through by _Runtime -> Run all_. **Keep all cell outputs** for grading.\n"
      ]
    },
    {
      "attachments": {},
      "cell_type": "markdown",
      "metadata": {
        "id": "T33dD1e8tii2"
      },
      "source": [
        "Install PyTorch and Skorch.\n"
      ]
    },
    {
      "cell_type": "markdown",
      "metadata": {
        "id": "d42EwpKsAe1D"
      },
      "source": []
    },
    {
      "cell_type": "code",
      "execution_count": 1,
      "metadata": {
        "id": "pJB3VQYDCUmh"
      },
      "outputs": [
        {
          "name": "stdout",
          "output_type": "stream",
          "text": [
            "Defaulting to user installation because normal site-packages is not writeable\n",
            "\u001b[31mERROR: Invalid requirement: '-'\u001b[0m\u001b[31m\n",
            "\u001b[0m"
          ]
        }
      ],
      "source": [
        "!pip3 install - q torch skorch torchvision torchtext sklearn numpy matplotlib\n"
      ]
    },
    {
      "cell_type": "code",
      "execution_count": 2,
      "metadata": {
        "id": "3l_Dl6qxCXmv"
      },
      "outputs": [],
      "source": [
        "import torch\n",
        "import torch.nn as nn\n",
        "import torch.nn.functional as F\n",
        "import torch.optim as optim\n",
        "import torchvision\n",
        "from torchvision import datasets\n",
        "from torchvision.transforms import ToTensor\n",
        "import skorch\n",
        "import sklearn\n",
        "import numpy as np\n",
        "import matplotlib.pyplot as plt\n"
      ]
    },
    {
      "attachments": {},
      "cell_type": "markdown",
      "metadata": {
        "id": "uevQtU7NtZ_-"
      },
      "source": [
        "## 1. Tensor Operations (20 points)\n",
        "\n",
        "Tensor operations are important in deep learning models. In this part, you are required to implement some common tensor operations in PyTorch.\n"
      ]
    },
    {
      "attachments": {},
      "cell_type": "markdown",
      "metadata": {
        "id": "5DeQOItkeQCx"
      },
      "source": [
        "### 1) Tensor squeezing, unsqueezing and viewing\n"
      ]
    },
    {
      "attachments": {},
      "cell_type": "markdown",
      "metadata": {
        "id": "pAOmBE5ODwpP"
      },
      "source": [
        "Tensor squeezing, unsqueezing and viewing are important methods to change the dimension of a Tensor, and the corresponding functions are [torch.squeeze](https://pytorch.org/docs/stable/torch.html#torch.squeeze), [torch.unsqueeze](https://pytorch.org/docs/stable/torch.html#torch.unsqueeze) and [torch.Tensor.view](https://pytorch.org/docs/stable/tensors.html#torch.Tensor.view). Please read the documents of the functions, and finish the following practice.\n"
      ]
    },
    {
      "cell_type": "code",
      "execution_count": 3,
      "metadata": {
        "colab": {
          "base_uri": "https://localhost:8080/"
        },
        "id": "hVrM80YxFSjb",
        "outputId": "fcc55c81-3ffb-4886-9551-98f640c54132"
      },
      "outputs": [
        {
          "name": "stdout",
          "output_type": "stream",
          "text": [
            "tensor([[1., 2.],\n",
            "        [3., 4.],\n",
            "        [5., 6.]])\n",
            "torch.Size([3, 2])\n",
            "\n",
            "tensor([[[[1.],\n",
            "          [2.]]],\n",
            "\n",
            "\n",
            "        [[[3.],\n",
            "          [4.]]],\n",
            "\n",
            "\n",
            "        [[[5.],\n",
            "          [6.]]]])\n",
            "torch.Size([3, 1, 2, 1])\n",
            "\n",
            "tensor([[1., 2.],\n",
            "        [3., 4.],\n",
            "        [5., 6.]])\n",
            "torch.Size([3, 2])\n",
            "\n",
            "tensor([1., 2., 3., 4., 5., 6.])\n",
            "torch.Size([6])\n"
          ]
        }
      ],
      "source": [
        "# x is a tensor with size being (3, 2)\n",
        "x = torch.Tensor([[1, 2], [3, 4], [5, 6]])\n",
        "print(x)\n",
        "print(x.shape)\n",
        "print()\n",
        "# Add two new dimensions to x by using the function torch.unsqueeze, so that the size of x becomes (3, 1, 2, 1).\n",
        "x = torch.Tensor.unsqueeze(x, 1)\n",
        "x = torch.Tensor.unsqueeze(x, 3)\n",
        "print(x)\n",
        "print(x.shape)\n",
        "print()\n",
        "# Remove the two dimensions justed added by using the function torch.squeeze, and change the size of x back to (3, 2).\n",
        "x = torch.Tensor.squeeze(x, 3)\n",
        "x = torch.Tensor.squeeze(x, 1)\n",
        "print(x)\n",
        "print(x.shape)\n",
        "print()\n",
        "# x is now a two-dimensional tensor, or in other words a matrix. Now use the function torch.Tensor.view and change x to a one-dimensional vector with size being (6).\n",
        "x = torch.Tensor.view(x, 6)\n",
        "\n",
        "print(x)\n",
        "print(x.shape)\n"
      ]
    },
    {
      "attachments": {},
      "cell_type": "markdown",
      "metadata": {
        "id": "liuR-U0wea0n"
      },
      "source": [
        "### 2) Tensor concatenation and stack\n"
      ]
    },
    {
      "attachments": {},
      "cell_type": "markdown",
      "metadata": {
        "id": "pkbnt6v8Bo-j"
      },
      "source": [
        "Tensor concatenation and stack are operations to combine small tensors into big tensors. The corresponding functions are [torch.cat](https://pytorch.org/docs/stable/torch.html#torch.cat) and [torch.stack](https://pytorch.org/docs/stable/torch.html#torch.stack). Please read the documents of the functions, and finish the following practice.\n"
      ]
    },
    {
      "cell_type": "code",
      "execution_count": 4,
      "metadata": {
        "colab": {
          "base_uri": "https://localhost:8080/"
        },
        "id": "b9KqXu3Stfjh",
        "outputId": "56931db9-eb0c-4d79-9bce-2bd093311e1a"
      },
      "outputs": [
        {
          "name": "stdout",
          "output_type": "stream",
          "text": [
            "tensor([[[ 1.,  2.],\n",
            "         [ 3.,  4.],\n",
            "         [ 5.,  6.]],\n",
            "\n",
            "        [[-1., -2.],\n",
            "         [-3., -4.],\n",
            "         [-5., -6.]]])\n",
            "torch.Size([2, 3, 2])\n",
            "tensor([[[ 1.,  2.],\n",
            "         [ 3.,  4.],\n",
            "         [ 5.,  6.]],\n",
            "\n",
            "        [[-1., -2.],\n",
            "         [-3., -4.],\n",
            "         [-5., -6.]]])\n",
            "torch.Size([2, 3, 2])\n"
          ]
        }
      ],
      "source": [
        "# x is a tensor with size being (3, 2)\n",
        "x = torch.Tensor([[1, 2], [3, 4], [5, 6]])\n",
        "\n",
        "# y is a tensor with size being (3, 2)\n",
        "y = torch.Tensor([[-1, -2], [-3, -4], [-5, -6]])\n",
        "\n",
        "# Our goal is to generate a tensor z with size as (2, 3, 2), and z[0,:,:] = x, z[1,:,:] = y.\n",
        "\n",
        "# Use torch.stack to generate such a z\n",
        "\n",
        "z = torch.stack([x, y])\n",
        "\n",
        "print(z)\n",
        "print(z.shape)\n",
        "\n",
        "# Use torch.cat and torch.unsqueeze to generate such a z\n",
        "z = torch.cat([torch.Tensor.unsqueeze(x, 0), torch.Tensor.unsqueeze(y, 0)], 0)\n",
        "\n",
        "print(z)\n",
        "print(z.shape)\n"
      ]
    },
    {
      "attachments": {},
      "cell_type": "markdown",
      "metadata": {
        "id": "WGw4eEo-eeHm"
      },
      "source": [
        "### 3) Tensor expansion\n"
      ]
    },
    {
      "attachments": {},
      "cell_type": "markdown",
      "metadata": {
        "id": "KAII9eJgJFK2"
      },
      "source": [
        "Tensor expansion is to expand a tensor into a larger tensor along singleton dimensions. The corresponding functions are [torch.Tensor.expand](https://pytorch.org/docs/stable/tensors.html#torch.Tensor.expand) and [torch.Tensor.expand_as](https://pytorch.org/docs/stable/tensors.html#torch.Tensor.expand_as). Please read the documents of the functions, and finish the following practice.\n"
      ]
    },
    {
      "cell_type": "code",
      "execution_count": 5,
      "metadata": {
        "colab": {
          "base_uri": "https://localhost:8080/"
        },
        "id": "sQbFte-AJzVL",
        "outputId": "25b9c6f9-d507-47f2-f064-f33a12ad4538"
      },
      "outputs": [
        {
          "name": "stdout",
          "output_type": "stream",
          "text": [
            "tensor([[1., 2., 3.],\n",
            "        [1., 2., 3.]])\n",
            "torch.Size([2, 3])\n"
          ]
        }
      ],
      "source": [
        "# x is a tensor with size being (3)\n",
        "x = torch.Tensor([1, 2, 3])\n",
        "\n",
        "# Our goal is to generate a tensor z with size (2, 3), so that z[0,:,:] = x, z[1,:,:] = x.\n",
        "\n",
        "# [TO DO]\n",
        "# Change the size of x into (1, 3) by using torch.unsqueeze.\n",
        "x = torch.Tensor.unsqueeze(x, 0)\n",
        "\n",
        "# [TO DO]\n",
        "# Then expand the new tensor to the target tensor by using torch.Tensor.expand.\n",
        "x = x.expand(2, 3)\n",
        "print(x)\n",
        "print(x.shape)\n"
      ]
    },
    {
      "attachments": {},
      "cell_type": "markdown",
      "metadata": {
        "id": "0rFL_Shoef3m"
      },
      "source": [
        "### 4) Tensor reduction in a given dimension\n"
      ]
    },
    {
      "attachments": {},
      "cell_type": "markdown",
      "metadata": {
        "id": "fmEoJVw0LL9H"
      },
      "source": [
        "In deep learning, we often need to compute the mean/sum/max/min value in a given dimension of a tensor. Please read the document of [torch.mean](https://pytorch.org/docs/stable/torch.html#torch.mean), [torch.sum](https://pytorch.org/docs/stable/torch.html#torch.sum), [torch.max](https://pytorch.org/docs/stable/torch.html#torch.max), [torch.min](https://pytorch.org/docs/stable/torch.html#torch.min), [torch.topk](https://pytorch.org/docs/stable/torch.html#torch.topk), and finish the following practice.\n"
      ]
    },
    {
      "cell_type": "code",
      "execution_count": 6,
      "metadata": {
        "colab": {
          "base_uri": "https://localhost:8080/"
        },
        "id": "A7dlZwe4MNxo",
        "outputId": "29cac2b7-bc96-43f4-c7c0-9d2b2b337092"
      },
      "outputs": [
        {
          "name": "stdout",
          "output_type": "stream",
          "text": [
            "x_mean tensor([-0.0110, -0.1161, -0.1393, -0.0856, -0.0467, -0.1094, -0.1171, -0.3031,\n",
            "        -0.0187,  0.0590])\n",
            "\n",
            "x_sum tensor([ -0.5481,  -5.8070,  -6.9656,  -4.2824,  -2.3368,  -5.4701,  -5.8574,\n",
            "        -15.1561,  -0.9359,   2.9483])\n",
            "\n",
            "x_max torch.return_types.max(\n",
            "values=tensor([2.4092, 1.9532, 2.3150, 1.3521, 2.8769, 1.8634, 1.6569, 1.6319, 2.7447,\n",
            "        1.8399]),\n",
            "indices=tensor([30, 32, 13, 22, 27, 29, 46, 35, 11, 40]))\n",
            "\n",
            "x_min torch.return_types.min(\n",
            "values=tensor([-1.9459, -2.4085, -2.3059, -2.7839, -2.0053, -2.2603, -3.3363, -2.1537,\n",
            "        -2.2950, -1.4216]),\n",
            "indices=tensor([ 4, 42, 38,  5, 25, 43,  7,  0, 12, 19]))\n",
            "\n",
            "x_top torch.return_types.topk(\n",
            "values=tensor([[2.4092, 1.9955, 1.6540, 1.6201, 1.3563],\n",
            "        [1.9532, 1.4596, 1.4370, 1.4132, 1.3768],\n",
            "        [2.3150, 2.1951, 1.5934, 1.3132, 1.0348],\n",
            "        [1.3521, 1.2543, 1.1054, 1.0555, 1.0144],\n",
            "        [2.8769, 2.5930, 1.9554, 1.9264, 1.7253],\n",
            "        [1.8634, 1.7814, 1.6862, 1.6786, 1.5212],\n",
            "        [1.6569, 1.5884, 1.1864, 1.1500, 1.0675],\n",
            "        [1.6319, 0.7586, 0.7322, 0.6872, 0.6318],\n",
            "        [2.7447, 1.7417, 1.6473, 1.6465, 1.5205],\n",
            "        [1.8399, 1.7662, 1.6025, 1.0560, 1.0322]]),\n",
            "indices=tensor([[30, 28, 44, 43, 37],\n",
            "        [32, 12, 25, 35,  2],\n",
            "        [13, 28,  2, 29, 23],\n",
            "        [22,  2, 21,  9, 13],\n",
            "        [27,  2, 37, 22, 24],\n",
            "        [29, 35, 19, 18, 20],\n",
            "        [46, 23, 41,  5,  8],\n",
            "        [35, 17, 39, 22, 41],\n",
            "        [11, 48, 40,  1, 46],\n",
            "        [40, 30, 35, 15, 49]]))\n",
            "\n"
          ]
        }
      ],
      "source": [
        "# x is a random tensor with size being (10, 50)\n",
        "x = torch.randn(10, 50)\n",
        "\n",
        "# Compute the mean value for each row of x.\n",
        "# You need to generate a tensor x_mean of size (10), and x_mean[k, :] is the mean value of the k-th row of x.\n",
        "# x_mean = torch.empty(10)\n",
        "x_mean = x.mean(1)\n",
        "print(\"x_mean\", x_mean)\n",
        "print()\n",
        "# Compute the sum value for each row of x.\n",
        "# You need to generate a tensor x_sum of size (10).\n",
        "x_sum = x.sum(1)\n",
        "print(\"x_sum\", x_sum)\n",
        "print()\n",
        "# Compute the max value for each row of x.\n",
        "# You need to generate a tensor x_max of size (10).\n",
        "x_max = x.max(1)\n",
        "print(\"x_max\", x_max)\n",
        "print()\n",
        "# Compute the min value for each row of x.\n",
        "# You need to generate a tensor x_min of size (10).\n",
        "x_min = x.min(1)\n",
        "print(\"x_min\", x_min)\n",
        "print()\n",
        "# Compute the top-5 values for each row of x.\n",
        "# You need to generate a tensor x_mean of size (10, 5), and x_top[k, :] is the top-5 values of each row in x.\n",
        "x_top = x.topk(5, 1)\n",
        "print(\"x_top\", x_top)\n",
        "print()\n"
      ]
    },
    {
      "attachments": {},
      "cell_type": "markdown",
      "metadata": {
        "id": "I49qjiqHB9oa"
      },
      "source": [
        "## Convolutional Neural Networks (40 points)\n"
      ]
    },
    {
      "attachments": {},
      "cell_type": "markdown",
      "metadata": {
        "id": "JePbG5pSt1xv"
      },
      "source": [
        "Implement a convolutional neural network for image classification on CIFAR-10 dataset.\n",
        "\n",
        "CIFAR-10 is an image dataset of 10 categories. Each image has a size of 32x32 pixels. The following code will download the dataset, and split it into `train` and `test`. For this question, we use the default validation split generated by Skorch.\n"
      ]
    },
    {
      "cell_type": "code",
      "execution_count": 7,
      "metadata": {
        "id": "sQxOUQ29BuMB"
      },
      "outputs": [],
      "source": [
        "train_data = datasets.MNIST(\n",
        "    root='data',\n",
        "    train=True,\n",
        "    transform=ToTensor(),\n",
        "    download=True,\n",
        ")\n",
        "test_data = datasets.MNIST(\n",
        "    root='data',\n",
        "    train=False,\n",
        "    transform=ToTensor()\n",
        ")\n"
      ]
    },
    {
      "cell_type": "code",
      "execution_count": 8,
      "metadata": {
        "colab": {
          "base_uri": "https://localhost:8080/",
          "height": 482
        },
        "id": "DTZvQc25gTMB",
        "outputId": "346e5cfe-a02b-466f-883c-488c741afe69"
      },
      "outputs": [
        {
          "data": {
            "image/png": "[encoded data removed]",
            "text/plain": [
              "<Figure size 1000x800 with 25 Axes>"
            ]
          },
          "metadata": {},
          "output_type": "display_data"
        }
      ],
      "source": [
        "figure = plt.figure(figsize=(10, 8))\n",
        "cols, rows = 5, 5\n",
        "for i in range(1, cols * rows + 1):\n",
        "    sample_idx = torch.randint(len(train_data), size=(1,)).item()\n",
        "    img, label = train_data[sample_idx]\n",
        "    figure.add_subplot(rows, cols, i)\n",
        "    plt.title(label)\n",
        "    plt.axis(\"off\")\n",
        "    plt.imshow(img.squeeze(), cmap=\"gray\")\n",
        "plt.show()\n"
      ]
    },
    {
      "attachments": {},
      "cell_type": "markdown",
      "metadata": {
        "id": "ieBpiwMwi6wD"
      },
      "source": [
        "The following code visualizes some samples in the dataset. You may use it to debug your model if necessary.\n"
      ]
    },
    {
      "cell_type": "code",
      "execution_count": 9,
      "metadata": {
        "colab": {
          "base_uri": "https://localhost:8080/",
          "height": 108
        },
        "id": "cU5HrxybupyJ",
        "outputId": "345e0af5-7881-4237-dd21-b3e0b79f3ee8"
      },
      "outputs": [
        {
          "data": {
            "image/png": "[encoded data removed]",
            "text/plain": [
              "<Figure size 640x480 with 5 Axes>"
            ]
          },
          "metadata": {},
          "output_type": "display_data"
        }
      ],
      "source": [
        "def plot(data, labels=None, num_sample=5):\n",
        "    n = min(len(data), num_sample)\n",
        "    for i in range(n):\n",
        "        plt.subplot(1, n, i+1)\n",
        "        plt.imshow(data[i], cmap=\"gray\")\n",
        "        plt.xticks([])\n",
        "        plt.yticks([])\n",
        "        if labels is not None:\n",
        "            plt.title(labels[i])\n",
        "\n",
        "\n",
        "# train.labels = [train.classes[target] for target in train.targets]\n",
        "plot(train_data.data, train_data.targets)\n"
      ]
    },
    {
      "cell_type": "code",
      "execution_count": 10,
      "metadata": {
        "colab": {
          "base_uri": "https://localhost:8080/"
        },
        "id": "qkeTGsxrjTTZ",
        "outputId": "d4cd813e-fe20-4972-ef5e-a7c4ec8f53d7"
      },
      "outputs": [
        {
          "data": {
            "text/plain": [
              "torch.Size([60000, 28, 28])"
            ]
          },
          "execution_count": 10,
          "metadata": {},
          "output_type": "execute_result"
        }
      ],
      "source": [
        "train_data.data.shape\n"
      ]
    },
    {
      "cell_type": "markdown",
      "metadata": {
        "id": "JwzKmdcuCv1D"
      },
      "source": [
        "### 1) Basic CNN implementation\n"
      ]
    },
    {
      "attachments": {},
      "cell_type": "markdown",
      "metadata": {
        "id": "TbEYo5WgjTtm"
      },
      "source": [
        "Consider a basic CNN model\n",
        "\n",
        "- It has 3 convolutional layers, followed by a linear layer.\n",
        "- Each convolutional layer has a kernel size of 3, a padding of 1.\n",
        "- ReLU activation is applied on every hidden layer.\n",
        "\n",
        "Please implement this model in the following section. You will need to tune the hyperparameters and fill the results in the table.\n"
      ]
    },
    {
      "attachments": {},
      "cell_type": "markdown",
      "metadata": {
        "id": "OZKyE2GUfL-Z"
      },
      "source": [
        "#### a) Implement convolutional layers\n"
      ]
    },
    {
      "attachments": {},
      "cell_type": "markdown",
      "metadata": {
        "id": "4P_aYytExtq9"
      },
      "source": [
        "Implement the initialization function and the forward function of the CNN.\n"
      ]
    },
    {
      "cell_type": "code",
      "execution_count": 30,
      "metadata": {
        "colab": {
          "base_uri": "https://localhost:8080/"
        },
        "id": "sDmCKUD1LBFk",
        "outputId": "3872dacb-5728-4ba5-8249-458438f49d4b"
      },
      "outputs": [
        {
          "name": "stdout",
          "output_type": "stream",
          "text": [
            "CNN(\n",
            "  (network): Sequential(\n",
            "    (0): Conv2d(1, 128, kernel_size=(3, 3), stride=(1, 1), padding=(1, 1))\n",
            "    (1): ReLU()\n",
            "    (2): Conv2d(128, 128, kernel_size=(3, 3), stride=(1, 1), padding=(1, 1))\n",
            "    (3): ReLU()\n",
            "    (4): Conv2d(128, 128, kernel_size=(3, 3), stride=(1, 1), padding=(1, 1))\n",
            "    (5): ReLU()\n",
            "  )\n",
            "  (fc1): Linear(in_features=100352, out_features=10, bias=True)\n",
            ")\n"
          ]
        }
      ],
      "source": [
        "class CNN(nn.Module):\n",
        "    def __init__(self):\n",
        "        super(CNN, self).__init__()\n",
        "        self.network = nn.Sequential(\n",
        "            nn.Conv2d(\n",
        "                in_channels=1,\n",
        "                out_channels=128,\n",
        "                kernel_size=3,\n",
        "                stride=1,\n",
        "                padding=1,\n",
        "            ),\n",
        "            nn.ReLU(),\n",
        "\n",
        "            nn.Conv2d(128, 128, 3, 1, 1),\n",
        "            nn.ReLU(),\n",
        "\n",
        "            nn.Conv2d(128, 128, 3, 1, 1),\n",
        "            nn.ReLU()\n",
        "        )\n",
        "\n",
        "        self.fc1 = nn.Linear(128 * 28 * 28, 10)\n",
        "\n",
        "    def forward(self, images):\n",
        "        out = self.network(images)\n",
        "        out = out.view(out.size(0), -1)   # Flatten them for FC\n",
        "        out = self.fc1(out)\n",
        "        return out\n",
        "\n",
        "\n",
        "cnn = CNN()\n",
        "print(cnn)\n"
      ]
    },
    {
      "attachments": {},
      "cell_type": "markdown",
      "metadata": {
        "id": "E_YaASPpgRiL"
      },
      "source": [
        "#### b) Tune hyperparameters\n"
      ]
    },
    {
      "attachments": {},
      "cell_type": "markdown",
      "metadata": {
        "id": "ygMcDdpy6XWP"
      },
      "source": [
        "Train the CNN model on CIFAR-10 dataset. Tune the number of channels, optimizer, learning rate and the number of epochs for best validation accuracy.\n"
      ]
    },
    {
      "cell_type": "code",
      "execution_count": 12,
      "metadata": {
        "id": "WsA7kXhQn6hu"
      },
      "outputs": [],
      "source": [
        "# implement input normalization & type cast here\n",
        "train_data.data = train_data.data / 255\n",
        "train_data.data = torch.Tensor.unsqueeze(train_data.data, 1)\n"
      ]
    },
    {
      "cell_type": "code",
      "execution_count": 25,
      "metadata": {
        "id": "0PHxOHYnr8TU"
      },
      "outputs": [
        {
          "name": "stdout",
          "output_type": "stream",
          "text": [
            "torch.Size([128, 128, 28, 28])\n",
            "torch.Size([128, 128, 28, 28])\n",
            "torch.Size([128, 128, 28, 28])\n",
            "torch.Size([128, 128, 28, 28])\n",
            "torch.Size([128, 128, 28, 28])\n",
            "torch.Size([128, 128, 28, 28])\n",
            "torch.Size([128, 128, 28, 28])\n",
            "torch.Size([128, 128, 28, 28])\n",
            "torch.Size([128, 128, 28, 28])\n",
            "torch.Size([128, 128, 28, 28])\n",
            "torch.Size([128, 128, 28, 28])\n",
            "torch.Size([128, 128, 28, 28])\n",
            "torch.Size([128, 128, 28, 28])\n",
            "torch.Size([128, 128, 28, 28])\n",
            "torch.Size([128, 128, 28, 28])\n",
            "torch.Size([128, 128, 28, 28])\n",
            "torch.Size([128, 128, 28, 28])\n",
            "torch.Size([128, 128, 28, 28])\n",
            "torch.Size([128, 128, 28, 28])\n",
            "torch.Size([128, 128, 28, 28])\n",
            "torch.Size([128, 128, 28, 28])\n",
            "torch.Size([128, 128, 28, 28])\n",
            "torch.Size([128, 128, 28, 28])\n",
            "torch.Size([128, 128, 28, 28])\n",
            "torch.Size([128, 128, 28, 28])\n",
            "torch.Size([128, 128, 28, 28])\n",
            "torch.Size([128, 128, 28, 28])\n",
            "torch.Size([128, 128, 28, 28])\n",
            "torch.Size([128, 128, 28, 28])\n",
            "torch.Size([128, 128, 28, 28])\n",
            "torch.Size([128, 128, 28, 28])\n",
            "torch.Size([128, 128, 28, 28])\n",
            "torch.Size([128, 128, 28, 28])\n",
            "torch.Size([128, 128, 28, 28])\n",
            "torch.Size([128, 128, 28, 28])\n",
            "torch.Size([128, 128, 28, 28])\n"
          ]
        },
        {
          "data": {
            "text/plain": [
              "<class 'skorch.classifier.NeuralNetClassifier'>[initialized](\n",
              "  module_=CNN(\n",
              "    (network): Sequential(\n",
              "      (0): Conv2d(1, 128, kernel_size=(3, 3), stride=(1, 1), padding=(1, 1))\n",
              "      (1): ReLU()\n",
              "      (2): Conv2d(128, 128, kernel_size=(3, 3), stride=(1, 1), padding=(1, 1))\n",
              "      (3): ReLU()\n",
              "      (4): Conv2d(128, 128, kernel_size=(3, 3), stride=(1, 1), padding=(1, 1))\n",
              "      (5): ReLU()\n",
              "    )\n",
              "    (fc1): Linear(in_features=100352, out_features=10, bias=True)\n",
              "  ),\n",
              ")"
            ]
          },
          "execution_count": 25,
          "metadata": {},
          "output_type": "execute_result"
        }
      ],
      "source": [
        "# implement hyperparameters here\n",
        "model = skorch.NeuralNetClassifier(CNN,\n",
        "                                   optimizer=optim.SGD,\n",
        "                                   device=\"cuda\")\n",
        "model.fit(train_data.data, train_data.targets)\n"
      ]
    },
    {
      "attachments": {},
      "cell_type": "markdown",
      "metadata": {
        "id": "w-EHKzozkRbD"
      },
      "source": [
        "Write down **validation accuracy** of your model under different hyperparameter settings. Note the validation set is automatically split by Skorch during `model.fit()`.\n",
        "\n",
        "**Hint:** You may need more epochs for SGD than Adam.\n",
        "\n",
        "| #channel for each layer \\ optimizer | SGD | Adam |\n",
        "| ----------------------------------- | --- | ---- |\n",
        "| (128, 128, 128)                     |     |      |\n",
        "| (256, 256, 256)                     |     |      |\n",
        "| (512, 512, 512)                     |     |      |\n"
      ]
    },
    {
      "attachments": {},
      "cell_type": "markdown",
      "metadata": {
        "id": "go55LVSJd-vG"
      },
      "source": [
        "### 2) Full CNN implementation\n"
      ]
    },
    {
      "attachments": {},
      "cell_type": "markdown",
      "metadata": {
        "id": "6G0eCj6OmOEE"
      },
      "source": [
        "Based on the CNN in the previous question, implement a full CNN model with max pooling layer.\n",
        "\n",
        "- Add a max pooling layer after each convolutional layer.\n",
        "- Each max pooling layer has a kernel size of 2 and a stride of 2.\n",
        "\n",
        "Please implement this model in the following section. You will need to tune the hyperparameters and fill the results in the table. You are also required to complete the questions.\n"
      ]
    },
    {
      "attachments": {},
      "cell_type": "markdown",
      "metadata": {
        "id": "bMrKGlMQhCa0"
      },
      "source": [
        "#### a) Implement max pooling layers\n"
      ]
    },
    {
      "attachments": {},
      "cell_type": "markdown",
      "metadata": {
        "id": "g2INt6P3Myd1"
      },
      "source": [
        "Copy the CNN implementation in previous question. Implement max pooling layers.\n"
      ]
    },
    {
      "cell_type": "code",
      "execution_count": 33,
      "metadata": {
        "id": "DHu3Ic2dM1S9"
      },
      "outputs": [
        {
          "data": {
            "text/plain": [
              "CNN_MaxPool(\n",
              "  (network): Sequential(\n",
              "    (0): Conv2d(1, 128, kernel_size=(3, 3), stride=(1, 1), padding=(1, 1))\n",
              "    (1): ReLU()\n",
              "    (2): MaxPool2d(kernel_size=2, stride=2, padding=0, dilation=1, ceil_mode=False)\n",
              "    (3): Conv2d(128, 128, kernel_size=(3, 3), stride=(1, 1), padding=(1, 1))\n",
              "    (4): ReLU()\n",
              "    (5): MaxPool2d(kernel_size=2, stride=2, padding=0, dilation=1, ceil_mode=False)\n",
              "    (6): Conv2d(128, 128, kernel_size=(3, 3), stride=(1, 1), padding=(1, 1))\n",
              "    (7): ReLU()\n",
              "    (8): MaxPool2d(kernel_size=2, stride=2, padding=0, dilation=1, ceil_mode=False)\n",
              "  )\n",
              "  (fc1): Linear(in_features=1152, out_features=10, bias=True)\n",
              ")"
            ]
          },
          "execution_count": 33,
          "metadata": {},
          "output_type": "execute_result"
        }
      ],
      "source": [
        "class CNN_MaxPool(nn.Module):\n",
        "    def __init__(self):\n",
        "        super(CNN_MaxPool, self).__init__()\n",
        "        self.network = nn.Sequential(\n",
        "            nn.Conv2d(\n",
        "                in_channels=1,\n",
        "                out_channels=128,\n",
        "                kernel_size=3,\n",
        "                stride=1,\n",
        "                padding=1,\n",
        "            ),\n",
        "            nn.ReLU(),\n",
        "            nn.MaxPool2d(2, 2),\n",
        "\n",
        "            nn.Conv2d(128, 128, 3, 1, 1),\n",
        "            nn.ReLU(),\n",
        "            nn.MaxPool2d(2, 2),\n",
        "\n",
        "            nn.Conv2d(128, 128, 3, 1, 1),\n",
        "            nn.ReLU(),\n",
        "            nn.MaxPool2d(2, 2),\n",
        "        )\n",
        "\n",
        "        self.fc1 = nn.Linear(128 * 3 * 3, 10)\n",
        "\n",
        "    def forward(self, images):\n",
        "        out = self.network(images)\n",
        "        out = out.view(out.size(0), -1)   # Flatten them for FC\n",
        "        out = self.fc1(out)\n",
        "        return out\n",
        "\n",
        "\n",
        "CNN_MaxPool()\n"
      ]
    },
    {
      "attachments": {},
      "cell_type": "markdown",
      "metadata": {
        "id": "-A6AEOoigq68"
      },
      "source": [
        "#### b) Tune hyperparameters\n"
      ]
    },
    {
      "attachments": {},
      "cell_type": "markdown",
      "metadata": {
        "id": "drH4MHSVNqwz"
      },
      "source": [
        "Based on best optimizer you found in the previous problem, tune the number of channels and learning rate for best validation accuracy.\n"
      ]
    },
    {
      "cell_type": "code",
      "execution_count": 34,
      "metadata": {
        "id": "tT9Evw4hryj1"
      },
      "outputs": [
        {
          "data": {
            "text/plain": [
              "<class 'skorch.classifier.NeuralNetClassifier'>[initialized](\n",
              "  module_=CNN_MaxPool(\n",
              "    (network): Sequential(\n",
              "      (0): Conv2d(1, 128, kernel_size=(3, 3), stride=(1, 1), padding=(1, 1))\n",
              "      (1): ReLU()\n",
              "      (2): MaxPool2d(kernel_size=2, stride=2, padding=0, dilation=1, ceil_mode=False)\n",
              "      (3): Conv2d(128, 128, kernel_size=(3, 3), stride=(1, 1), padding=(1, 1))\n",
              "      (4): ReLU()\n",
              "      (5): MaxPool2d(kernel_size=2, stride=2, padding=0, dilation=1, ceil_mode=False)\n",
              "      (6): Conv2d(128, 128, kernel_size=(3, 3), stride=(1, 1), padding=(1, 1))\n",
              "      (7): ReLU()\n",
              "      (8): MaxPool2d(kernel_size=2, stride=2, padding=0, dilation=1, ceil_mode=False)\n",
              "    )\n",
              "    (fc1): Linear(in_features=1152, out_features=10, bias=True)\n",
              "  ),\n",
              ")"
            ]
          },
          "execution_count": 34,
          "metadata": {},
          "output_type": "execute_result"
        }
      ],
      "source": [
        "model = skorch.NeuralNetClassifier(CNN_MaxPool,\n",
        "                                   optimizer=optim.SGD,\n",
        "                                   criterion=torch.nn.CrossEntropyLoss,\n",
        "                                   device=\"cuda\")\n",
        "model.fit(train_data.data, train_data.targets)\n"
      ]
    },
    {
      "attachments": {},
      "cell_type": "markdown",
      "metadata": {
        "id": "H7Mu2ZZHoZU0"
      },
      "source": [
        "Write down the **validation accuracy** of your model under different hyperparameter settings.\n",
        "\n",
        "| #channel for each layer | validation accuracy |\n",
        "| ----------------------- | ------------------- |\n",
        "| (128, 128, 128)         |                     |\n",
        "| (128, 256, 512)         |                     |\n",
        "| (256, 256, 256)         |                     |\n",
        "| (256, 512, 1024)        |                     |\n",
        "| (512, 512, 512)         |                     |\n",
        "| (512, 1024, 2048)       |                     |\n"
      ]
    },
    {
      "attachments": {},
      "cell_type": "markdown",
      "metadata": {
        "id": "8UCaz8nWoWWS"
      },
      "source": [
        "For the best model you have, test it on the test set.\n",
        "\n",
        "It is fine if you found some hyperparameter combination better than those listed in the tables.\n"
      ]
    },
    {
      "cell_type": "code",
      "execution_count": null,
      "metadata": {
        "id": "bTtBk22OECDD"
      },
      "outputs": [],
      "source": [
        "# implement the same input normalization & type cast here\n",
        "test.predictions = model.predict(test.data)\n",
        "sklearn.metrics.accuracy_score(test.targets, test.predictions)\n"
      ]
    },
    {
      "attachments": {},
      "cell_type": "markdown",
      "metadata": {
        "id": "kSbhC8f1or6_"
      },
      "source": [
        "How much **test accuracy** do you get?\n",
        "\n",
        "**Your Answer:**\n"
      ]
    },
    {
      "attachments": {},
      "cell_type": "markdown",
      "metadata": {
        "id": "nG3E9ZckomkX"
      },
      "source": [
        "What can you conclude for the design of CNN structure?\n",
        "\n",
        "**Your Answer:**\n"
      ]
    },
    {
      "attachments": {},
      "cell_type": "markdown",
      "metadata": {
        "id": "kNlnDbZtqHgi"
      },
      "source": [
        "- **Subtask 2-1: Completing the Table**\n",
        "\n",
        "We have provided the following table for different combinations of optimizers and learning rate, please write down the **validation accuracy** of your model with different optimizers and learning rates.\n",
        "\n",
        "|         | 0.1 | 0.01 | 0.001 | 0.0001 |\n",
        "| ------- | --- | ---- | ----- | ------ |\n",
        "| SGD     |     |      |       |        |\n",
        "| Adam    |     |      |       |        |\n",
        "| RMSprop |     |      |       |        |\n"
      ]
    },
    {
      "attachments": {},
      "cell_type": "markdown",
      "metadata": {
        "id": "nVVd5b9rzSFA"
      },
      "source": [
        "- **Subtask 2-2: Explaining your Observations**\n",
        "\n",
        "Based on your results, briefly explain your observations, e.g., which optimizer works the best, what is the optimal learning rate for each optimizer?\n",
        "\n",
        "_Your Answer:_\n"
      ]
    },
    {
      "attachments": {},
      "cell_type": "markdown",
      "metadata": {
        "id": "dyy7qpHtzYJn"
      },
      "source": [
        "### 3) Compare the Results under Different Epoches\n"
      ]
    },
    {
      "attachments": {},
      "cell_type": "markdown",
      "metadata": {
        "id": "mhXQERRizZO6"
      },
      "source": [
        "In this task, we hope to compare the results of our model under different training epoches, and answer a question.\n"
      ]
    },
    {
      "attachments": {},
      "cell_type": "markdown",
      "metadata": {
        "id": "9JBBjTGd1zis"
      },
      "source": [
        "- **Subtask 3-1: Completing the Table**\n",
        "\n",
        "We have provided the following table, please write down the **training accuracy** and **validation accuracy** of your model under different epoches.\n",
        "\n",
        "|                     | 10  | 20  | 30  | 40  | 50  |\n",
        "| ------------------- | --- | --- | --- | --- | --- |\n",
        "| Training Accuracy   |     |     |     |     |     |\n",
        "| Validation Accuracy |     |     |     |     |     |\n"
      ]
    },
    {
      "attachments": {},
      "cell_type": "markdown",
      "metadata": {
        "id": "l82_FjXazdod"
      },
      "source": [
        "- **Subtask 3-2: Answering the Question**\n",
        "\n",
        "Is it always better to train a model for more epoches? How can we decide when should we stop training?\n",
        "\n",
        "_Your Answer:_\n"
      ]
    }
  ],
  "metadata": {
    "accelerator": "GPU",
    "colab": {
      "provenance": []
    },
    "gpuClass": "standard",
    "kernelspec": {
      "display_name": "Python 3",
      "language": "python",
      "name": "python3"
    },
    "language_info": {
      "codemirror_mode": {
        "name": "ipython",
        "version": 3
      },
      "file_extension": ".py",
      "mimetype": "text/x-python",
      "name": "python",
      "nbconvert_exporter": "python",
      "pygments_lexer": "ipython3",
      "version": "3.10.6"
    },
    "vscode": {
      "interpreter": {
        "hash": "916dbcbb3f70747c44a77c7bcd40155683ae19c65e1c03b4aa3499c5328201f1"
      }
    }
  },
  "nbformat": 4,
  "nbformat_minor": 0
}
